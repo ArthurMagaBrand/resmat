{
 "cells": [
  {
   "cell_type": "markdown",
   "id": "b88550df-6a6b-434c-8fff-1c48f9ac814c",
   "metadata": {},
   "source": [
    "# Symbolic Mathematics using 'sympy':"
   ]
  },
  {
   "cell_type": "markdown",
   "id": "4e881832-3b0f-46ca-a599-8229a7577c19",
   "metadata": {},
   "source": [
    "---"
   ]
  },
  {
   "cell_type": "markdown",
   "id": "a034413f-f2ec-46fa-b709-98af15d394df",
   "metadata": {},
   "source": [
    "# Importing Library:\n",
    "Syntax:</br>\n",
    "```import <library_name>```</br>\n",
    "```import <library_name> as <nickname>```</br>\n",
    "Example:\n",
    "```python\n",
    "import sympy as sp\n",
    "```"
   ]
  },
  {
   "cell_type": "code",
   "execution_count": 1,
   "id": "51a29166-d195-4904-8ce4-265ec92bbda0",
   "metadata": {
    "tags": []
   },
   "outputs": [],
   "source": [
    "import sympy as sp"
   ]
  },
  {
   "cell_type": "markdown",
   "id": "a5f62673-1f38-4044-847e-d64ba47569c2",
   "metadata": {
    "tags": []
   },
   "source": [
    "## Defining Symbols:\n",
    "\n",
    "Syntax:</br>\n",
    "``` variable_names = sp.symbols(\"symbol_characters\") ``` </br>\n",
    "Example:</br>\n",
    "``` python\n",
    "f, Ax, Ay = sp.symbols(\"f(x), A_x, A_y\")\n",
    "```\n",
    "\n",
    "Note:\n",
    "   - variable_names are seperated by comas.\n",
    "   - corresponding symbol_characters are also seperate by comas but within a single string.\n",
    "   - symbol_character represents how the variables looks while printed.\n"
   ]
  },
  {
   "cell_type": "code",
   "execution_count": 2,
   "id": "470014dd-a8ad-415a-9a7f-afa80124d4c4",
   "metadata": {
    "tags": []
   },
   "outputs": [],
   "source": [
    "f, Ax, Ay = sp.symbols(\"f(x), A_x, A_y\")"
   ]
  },
  {
   "cell_type": "code",
   "execution_count": 3,
   "id": "ffdbd670-fb6b-443b-84f9-0eedcc0b9650",
   "metadata": {
    "tags": []
   },
   "outputs": [
    {
     "name": "stdout",
     "output_type": "stream",
     "text": [
      "f(x) A_x A_y\n"
     ]
    }
   ],
   "source": [
    "print(f,Ax,Ay)"
   ]
  },
  {
   "cell_type": "code",
   "execution_count": 29,
   "id": "df3a6a96-eb74-4256-a9d6-56f6506852ee",
   "metadata": {
    "tags": []
   },
   "outputs": [
    {
     "data": {
      "text/latex": [
       "$\\displaystyle f(x)$"
      ],
      "text/plain": [
       "f(x)"
      ]
     },
     "metadata": {},
     "output_type": "display_data"
    },
    {
     "data": {
      "text/latex": [
       "$\\displaystyle A_{x}$"
      ],
      "text/plain": [
       "A_x"
      ]
     },
     "metadata": {},
     "output_type": "display_data"
    },
    {
     "data": {
      "text/latex": [
       "$\\displaystyle A_{y}$"
      ],
      "text/plain": [
       "A_y"
      ]
     },
     "metadata": {},
     "output_type": "display_data"
    }
   ],
   "source": [
    "display(f,Ax,Ay)"
   ]
  },
  {
   "cell_type": "markdown",
   "id": "32284a2f-dc2e-4806-85cf-90488bdc20f2",
   "metadata": {},
   "source": [
    "## Defining Expression Object:\n",
    "\n",
    "Syntax:</br>\n",
    "``` variable = algebric experssion of some variables ```\n"
   ]
  },
  {
   "cell_type": "code",
   "execution_count": 5,
   "id": "dce4c5d4-e275-48cb-8eae-8f52f7c33e76",
   "metadata": {},
   "outputs": [
    {
     "data": {
      "text/latex": [
       "$\\displaystyle \\left(A_{x} + A_{y}\\right)^{2}$"
      ],
      "text/plain": [
       "(A_x + A_y)**2"
      ]
     },
     "execution_count": 5,
     "metadata": {},
     "output_type": "execute_result"
    }
   ],
   "source": [
    "(Ax + Ay)**2"
   ]
  },
  {
   "cell_type": "code",
   "execution_count": 6,
   "id": "5defb78d-8f74-43d5-8be5-1e2c841d4c41",
   "metadata": {},
   "outputs": [],
   "source": [
    "expr1 = Ax/Ay"
   ]
  },
  {
   "cell_type": "code",
   "execution_count": 7,
   "id": "88df8744-bc65-43a5-afbd-103f788b778e",
   "metadata": {},
   "outputs": [
    {
     "data": {
      "text/latex": [
       "$\\displaystyle \\frac{A_{x}}{A_{y}}$"
      ],
      "text/plain": [
       "A_x/A_y"
      ]
     },
     "execution_count": 7,
     "metadata": {},
     "output_type": "execute_result"
    }
   ],
   "source": [
    "expr1"
   ]
  },
  {
   "cell_type": "code",
   "execution_count": 8,
   "id": "1f569c8a-8386-49fc-812a-a73573d8c4ba",
   "metadata": {},
   "outputs": [
    {
     "data": {
      "text/latex": [
       "$\\displaystyle \\sqrt{\\frac{A_{x}}{A_{y}}}$"
      ],
      "text/plain": [
       "sqrt(A_x/A_y)"
      ]
     },
     "execution_count": 8,
     "metadata": {},
     "output_type": "execute_result"
    }
   ],
   "source": [
    "sp.sqrt(expr1)"
   ]
  },
  {
   "cell_type": "code",
   "execution_count": null,
   "id": "2526b5ce-aab3-4abd-8438-59e4ed5af402",
   "metadata": {},
   "outputs": [],
   "source": []
  },
  {
   "cell_type": "markdown",
   "id": "637f3499-6fde-4a3c-b56d-4471fe3ac311",
   "metadata": {},
   "source": [
    "## Defining Equation Object:\n",
    "\n",
    "Syntax:</br>\n",
    "``` variable_name = sp.Eq(expr1, expr2 ) ```"
   ]
  },
  {
   "cell_type": "code",
   "execution_count": 9,
   "id": "456b3877-96e3-4baa-b5e6-4acdcdc5e916",
   "metadata": {},
   "outputs": [
    {
     "data": {
      "text/latex": [
       "$\\displaystyle f(x) = \\frac{A_{x}}{A_{y}}$"
      ],
      "text/plain": [
       "Eq(f(x), A_x/A_y)"
      ]
     },
     "execution_count": 9,
     "metadata": {},
     "output_type": "execute_result"
    }
   ],
   "source": [
    "sp.Eq(f, expr1)"
   ]
  },
  {
   "cell_type": "code",
   "execution_count": 10,
   "id": "77b8f60c-e693-4467-9b12-87a967878645",
   "metadata": {},
   "outputs": [
    {
     "data": {
      "text/latex": [
       "$\\displaystyle \\frac{A_{x}}{A_{y}} = 0$"
      ],
      "text/plain": [
       "Eq(A_x/A_y, 0)"
      ]
     },
     "execution_count": 10,
     "metadata": {},
     "output_type": "execute_result"
    }
   ],
   "source": [
    "sp.Eq(expr1, 0)"
   ]
  },
  {
   "cell_type": "code",
   "execution_count": null,
   "id": "593e2c0a-a4eb-4e97-8371-6bb868bed4bd",
   "metadata": {},
   "outputs": [],
   "source": []
  },
  {
   "cell_type": "markdown",
   "id": "389d2ab7-3f4c-4954-86e0-a46099e49a38",
   "metadata": {},
   "source": [
    "## More examples on expression and equation:\n"
   ]
  },
  {
   "cell_type": "code",
   "execution_count": 11,
   "id": "ab3d2d05-7edc-4874-aa08-f8d746d4b275",
   "metadata": {},
   "outputs": [
    {
     "data": {
      "text/latex": [
       "$\\displaystyle \\sin{\\left(x \\right)} + \\cos^{2}{\\left(x \\right)} + 1$"
      ],
      "text/plain": [
       "sin(x) + cos(x)**2 + 1"
      ]
     },
     "metadata": {},
     "output_type": "display_data"
    },
    {
     "data": {
      "text/latex": [
       "$\\displaystyle \\log{\\left(x + 5 \\right)}$"
      ],
      "text/plain": [
       "log(x + 5)"
      ]
     },
     "metadata": {},
     "output_type": "display_data"
    }
   ],
   "source": [
    "x = sp.symbols('x')\n",
    "e1 = sp.cos(x)**2 + sp.sin(x) + 1\n",
    "display(e1)\n",
    "e2 = sp.log( (x+5))\n",
    "display(e2)"
   ]
  },
  {
   "cell_type": "code",
   "execution_count": 12,
   "id": "7e84f424-cfcc-4b91-b49a-32e640774d51",
   "metadata": {},
   "outputs": [
    {
     "data": {
      "text/latex": [
       "$\\displaystyle \\sin{\\left(x \\right)} + \\cos^{2}{\\left(x \\right)} + 1 = \\log{\\left(x + 5 \\right)}$"
      ],
      "text/plain": [
       "Eq(sin(x) + cos(x)**2 + 1, log(x + 5))"
      ]
     },
     "execution_count": 12,
     "metadata": {},
     "output_type": "execute_result"
    }
   ],
   "source": [
    "sp.Eq(e1,e2)"
   ]
  },
  {
   "cell_type": "code",
   "execution_count": null,
   "id": "296a57e0-eb5e-4d51-b85f-3f70f701fd20",
   "metadata": {},
   "outputs": [],
   "source": []
  },
  {
   "cell_type": "markdown",
   "id": "201da63b-328f-415d-9829-9c9bbb146b21",
   "metadata": {},
   "source": [
    "## Making a simple plot:\n",
    "\n",
    "Syntax:</br>\n",
    "```sp.plot(expressions)```"
   ]
  },
  {
   "cell_type": "code",
   "execution_count": null,
   "id": "e0a1bab2-a1ff-4751-8b71-c47f799cf7eb",
   "metadata": {},
   "outputs": [
    {
     "data": {
      "image/png": "[encoded data removed]",
      "text/plain": [
       "<Figure size 432x288 with 1 Axes>"
      ]
     },
     "metadata": {
      "needs_background": "light"
     },
     "output_type": "display_data"
    },
    {
     "data": {
      "text/plain": [
       "<sympy.plotting.plot.Plot at 0x2eb6945e640>"
      ]
     },
     "execution_count": 13,
     "metadata": {},
     "output_type": "execute_result"
    }
   ],
   "source": [
    "x = sp.symbols('x')\n",
    "expression = x**2 - 23\n",
    "sp.plot(expression)"
   ]
  },
  {
   "cell_type": "code",
   "execution_count": null,
   "id": "ee5ddb5d-a1dd-4ef8-900c-b00e7f562cc0",
   "metadata": {},
   "outputs": [
    {
     "data": {
      "image/png": "[encoded data removed]",
      "text/plain": [
       "<Figure size 432x288 with 1 Axes>"
      ]
     },
     "metadata": {
      "needs_background": "light"
     },
     "output_type": "display_data"
    },
    {
     "data": {
      "text/plain": [
       "<sympy.plotting.plot.Plot at 0x2eb6945e910>"
      ]
     },
     "execution_count": 14,
     "metadata": {},
     "output_type": "execute_result"
    }
   ],
   "source": [
    "sp.plot(e1, e2)"
   ]
  },
  {
   "cell_type": "code",
   "execution_count": null,
   "id": "d906a383-8053-4208-a328-9a132bb6a30e",
   "metadata": {},
   "outputs": [],
   "source": []
  },
  {
   "cell_type": "markdown",
   "id": "b733ae90-3e96-420f-b5fb-b094feb0eb60",
   "metadata": {
    "tags": []
   },
   "source": [
    "## Solving Single Equation:\n",
    "\n",
    "Syntax:</br>\n",
    "``` variable_name = sp.solve(equation) ```"
   ]
  },
  {
   "cell_type": "code",
   "execution_count": null,
   "id": "c6635d8b-beb2-4525-8d7a-a78be9f22a2d",
   "metadata": {},
   "outputs": [
    {
     "data": {
      "text/plain": [
       "[-pi/2, 2*atan(1/2 - sqrt(3)*I/2), 2*atan(1/2 + sqrt(3)*I/2)]"
      ]
     },
     "execution_count": 15,
     "metadata": {},
     "output_type": "execute_result"
    }
   ],
   "source": [
    "sp.solve(e1)"
   ]
  },
  {
   "cell_type": "code",
   "execution_count": null,
   "id": "6f06b951-3d0b-4799-bdf4-805137e7a810",
   "metadata": {},
   "outputs": [
    {
     "data": {
      "text/latex": [
       "$\\displaystyle \\sin{\\left(x \\right)} + \\cos^{2}{\\left(x \\right)} + 1$"
      ],
      "text/plain": [
       "sin(x) + cos(x)**2 + 1"
      ]
     },
     "metadata": {},
     "output_type": "display_data"
    },
    {
     "name": "stdout",
     "output_type": "stream",
     "text": [
      "Solving this equation, we get following roots:\n"
     ]
    },
    {
     "data": {
      "text/latex": [
       "$\\displaystyle - \\frac{\\pi}{2}$"
      ],
      "text/plain": [
       "-pi/2"
      ]
     },
     "metadata": {},
     "output_type": "display_data"
    },
    {
     "data": {
      "text/latex": [
       "$\\displaystyle 2 \\operatorname{atan}{\\left(\\frac{1}{2} - \\frac{\\sqrt{3} i}{2} \\right)}$"
      ],
      "text/plain": [
       "2*atan(1/2 - sqrt(3)*I/2)"
      ]
     },
     "metadata": {},
     "output_type": "display_data"
    },
    {
     "data": {
      "text/latex": [
       "$\\displaystyle 2 \\operatorname{atan}{\\left(\\frac{1}{2} + \\frac{\\sqrt{3} i}{2} \\right)}$"
      ],
      "text/plain": [
       "2*atan(1/2 + sqrt(3)*I/2)"
      ]
     },
     "metadata": {},
     "output_type": "display_data"
    }
   ],
   "source": [
    "values = sp.solve(e1)\n",
    "display(e1)\n",
    "print(\"Solving this equation, we get following roots:\")\n",
    "for x in values:\n",
    "    display(x)"
   ]
  },
  {
   "cell_type": "code",
   "execution_count": null,
   "id": "83f9e2f6-4ccd-426e-8940-daba0c7662da",
   "metadata": {},
   "outputs": [],
   "source": []
  },
  {
   "cell_type": "markdown",
   "id": "f0b3ba90-4cb3-4822-a3f6-10804fed4141",
   "metadata": {
    "tags": []
   },
   "source": [
    "## Solving Multiple Equation:\n",
    "\n",
    "Syntax:</br>\n",
    "``` variable_name = sp.solve(list_of_equations, unknown_variables) ```"
   ]
  },
  {
   "cell_type": "code",
   "execution_count": null,
   "id": "672c4f14-d251-4541-8486-5aa97f0fb107",
   "metadata": {},
   "outputs": [
    {
     "data": {
      "text/plain": [
       "{x: 0, y: 56/43}"
      ]
     },
     "execution_count": 17,
     "metadata": {},
     "output_type": "execute_result"
    }
   ],
   "source": [
    "x,y = sp.symbols('x, y')\n",
    "eq1 = sp.Eq(5*x + 43*y , 56)\n",
    "eq2 = sp.Eq(6*x + 43*y, 56)\n",
    "values = sp.solve([eq1, eq2], [x,y])\n",
    "values"
   ]
  },
  {
   "cell_type": "code",
   "execution_count": null,
   "id": "3f16f297-2628-408c-bffa-5dbb1079d05a",
   "metadata": {},
   "outputs": [],
   "source": []
  },
  {
   "attachments": {
    "61152637-2e78-4ed6-84fd-49a57b6803f6.png": {
     "image/png": "[encoded data removed]"
    }
   },
   "cell_type": "markdown",
   "id": "acb95954-88c5-4091-8f6f-f24e0b3962f4",
   "metadata": {},
   "source": [
    "General 3 by 3 Simultaneous equation system:</br>\n",
    "![image.png](attachment:61152637-2e78-4ed6-84fd-49a57b6803f6.png)"
   ]
  },
  {
   "cell_type": "code",
   "execution_count": null,
   "id": "7d25c6cd-72c6-4174-858e-89fde788cc96",
   "metadata": {
    "tags": []
   },
   "outputs": [
    {
     "data": {
      "text/latex": [
       "$\\displaystyle a_{1} x + b_{1} y + c_{1} z = d_{1}$"
      ],
      "text/plain": [
       "Eq(a1*x + b1*y + c1*z, d1)"
      ]
     },
     "metadata": {},
     "output_type": "display_data"
    },
    {
     "data": {
      "text/latex": [
       "$\\displaystyle a_{2} x + b_{2} y + c_{2} z = d_{2}$"
      ],
      "text/plain": [
       "Eq(a2*x + b2*y + c2*z, d2)"
      ]
     },
     "metadata": {},
     "output_type": "display_data"
    },
    {
     "data": {
      "text/latex": [
       "$\\displaystyle a_{3} x + b_{3} y + c_{3} z = d_{3}$"
      ],
      "text/plain": [
       "Eq(a3*x + b3*y + c3*z, d3)"
      ]
     },
     "metadata": {},
     "output_type": "display_data"
    },
    {
     "name": "stdout",
     "output_type": "stream",
     "text": [
      "Solving these simultaneously:\n"
     ]
    },
    {
     "data": {
      "text/latex": [
       "$\\displaystyle x = \\frac{b_{1} c_{2} d_{3} - b_{1} c_{3} d_{2} - b_{2} c_{1} d_{3} + b_{2} c_{3} d_{1} + b_{3} c_{1} d_{2} - b_{3} c_{2} d_{1}}{a_{1} b_{2} c_{3} - a_{1} b_{3} c_{2} - a_{2} b_{1} c_{3} + a_{2} b_{3} c_{1} + a_{3} b_{1} c_{2} - a_{3} b_{2} c_{1}}$"
      ],
      "text/plain": [
       "Eq(x, (b1*c2*d3 - b1*c3*d2 - b2*c1*d3 + b2*c3*d1 + b3*c1*d2 - b3*c2*d1)/(a1*b2*c3 - a1*b3*c2 - a2*b1*c3 + a2*b3*c1 + a3*b1*c2 - a3*b2*c1))"
      ]
     },
     "metadata": {},
     "output_type": "display_data"
    },
    {
     "data": {
      "text/latex": [
       "$\\displaystyle y = \\frac{- a_{1} c_{2} d_{3} + a_{1} c_{3} d_{2} + a_{2} c_{1} d_{3} - a_{2} c_{3} d_{1} - a_{3} c_{1} d_{2} + a_{3} c_{2} d_{1}}{a_{1} b_{2} c_{3} - a_{1} b_{3} c_{2} - a_{2} b_{1} c_{3} + a_{2} b_{3} c_{1} + a_{3} b_{1} c_{2} - a_{3} b_{2} c_{1}}$"
      ],
      "text/plain": [
       "Eq(y, (-a1*c2*d3 + a1*c3*d2 + a2*c1*d3 - a2*c3*d1 - a3*c1*d2 + a3*c2*d1)/(a1*b2*c3 - a1*b3*c2 - a2*b1*c3 + a2*b3*c1 + a3*b1*c2 - a3*b2*c1))"
      ]
     },
     "metadata": {},
     "output_type": "display_data"
    },
    {
     "data": {
      "text/latex": [
       "$\\displaystyle z = \\frac{a_{1} b_{2} d_{3} - a_{1} b_{3} d_{2} - a_{2} b_{1} d_{3} + a_{2} b_{3} d_{1} + a_{3} b_{1} d_{2} - a_{3} b_{2} d_{1}}{a_{1} b_{2} c_{3} - a_{1} b_{3} c_{2} - a_{2} b_{1} c_{3} + a_{2} b_{3} c_{1} + a_{3} b_{1} c_{2} - a_{3} b_{2} c_{1}}$"
      ],
      "text/plain": [
       "Eq(z, (a1*b2*d3 - a1*b3*d2 - a2*b1*d3 + a2*b3*d1 + a3*b1*d2 - a3*b2*d1)/(a1*b2*c3 - a1*b3*c2 - a2*b1*c3 + a2*b3*c1 + a3*b1*c2 - a3*b2*c1))"
      ]
     },
     "metadata": {},
     "output_type": "display_data"
    }
   ],
   "source": [
    "x, y, z = sp.symbols(\"x, y, z\")\n",
    "a1, b1, c1, d1, a2, b2, c2, d2, a3, b3, c3, d3 = sp.symbols('a1, b1, c1, d1, a2, b2, c2, d2, a3, b3, c3, d3', constant = True)\n",
    "\n",
    "eq1 = sp.Eq(a1 * x + b1 * y + c1 * z, d1)\n",
    "eq2 = sp.Eq(a2 * x + b2 * y + c2 * z, d2)\n",
    "eq3 = sp.Eq(a3 * x + b3 * y + c3 * z, d3)\n",
    "\n",
    "display(eq1, eq2, eq3)\n",
    "print(\"Solving these simultaneously:\")\n",
    "values = sp.solve([eq1, eq2, eq3], [x,y,z])\n",
    "display(sp.Eq(x,values[x]),sp.Eq(y, values[y]),sp.Eq(z, values[z]))"
   ]
  },
  {
   "cell_type": "code",
   "execution_count": null,
   "id": "129007e5-574b-45a1-9249-e74161265bdd",
   "metadata": {},
   "outputs": [],
   "source": []
  },
  {
   "cell_type": "code",
   "execution_count": null,
   "id": "0c75f3e8-b89b-43e1-9e55-0217b9451925",
   "metadata": {},
   "outputs": [],
   "source": []
  },
  {
   "cell_type": "markdown",
   "id": "5f62ecef-8658-4a8f-9c94-1635ef5c8dc8",
   "metadata": {},
   "source": [
    "# Sum Object:"
   ]
  },
  {
   "attachments": {
    "f37fbbcd-3dbd-419a-86f2-7eff37fca966.png": {
     "image/png": "[encoded data removed]"
    }
   },
   "cell_type": "markdown",
   "id": "14359719-af20-4b0d-aa7f-013fe821ea89",
   "metadata": {},
   "source": [
    "![image.png](attachment:f37fbbcd-3dbd-419a-86f2-7eff37fca966.png)"
   ]
  },
  {
   "cell_type": "code",
   "execution_count": null,
   "id": "8f1fc5ea-e448-4bf9-ac53-0aeedd0f2579",
   "metadata": {},
   "outputs": [
    {
     "data": {
      "text/latex": [
       "$\\displaystyle \\sum_{i=1}^{n} \\left(2 i^{2} + i\\right)$"
      ],
      "text/plain": [
       "Sum(2*i**2 + i, (i, 1, n))"
      ]
     },
     "execution_count": 19,
     "metadata": {},
     "output_type": "execute_result"
    }
   ],
   "source": [
    "import sympy as sp\n",
    "i, n = sp.symbols(\"i, n\")\n",
    "s = sp.Sum(2 * i**2 + i, (i, 1,n ) )\n",
    "s"
   ]
  },
  {
   "cell_type": "code",
   "execution_count": null,
   "id": "12f85725-d246-429f-9a6e-8193d8e5d654",
   "metadata": {},
   "outputs": [
    {
     "data": {
      "text/latex": [
       "$\\displaystyle \\frac{2 n^{3}}{3} + \\frac{3 n^{2}}{2} + \\frac{5 n}{6}$"
      ],
      "text/plain": [
       "2*n**3/3 + 3*n**2/2 + 5*n/6"
      ]
     },
     "execution_count": 20,
     "metadata": {},
     "output_type": "execute_result"
    }
   ],
   "source": [
    "s.doit()"
   ]
  },
  {
   "cell_type": "code",
   "execution_count": null,
   "id": "053a25af-bd56-4672-8a39-cb446cfa26c8",
   "metadata": {},
   "outputs": [
    {
     "data": {
      "text/latex": [
       "$\\displaystyle \\sum_{i=1}^{n} \\left(2 i^{2} + i\\right) = \\frac{2 n^{3}}{3} + \\frac{3 n^{2}}{2} + \\frac{5 n}{6}$"
      ],
      "text/plain": [
       "Eq(Sum(2*i**2 + i, (i, 1, n)), 2*n**3/3 + 3*n**2/2 + 5*n/6)"
      ]
     },
     "execution_count": 21,
     "metadata": {},
     "output_type": "execute_result"
    }
   ],
   "source": [
    "sp.Eq(s, s.doit())"
   ]
  },
  {
   "cell_type": "code",
   "execution_count": null,
   "id": "23e1be28-682f-484e-92cd-84fd56394487",
   "metadata": {},
   "outputs": [],
   "source": []
  },
  {
   "cell_type": "markdown",
   "id": "b05ce696-9171-45c7-82aa-430ee5954a39",
   "metadata": {},
   "source": [
    "---"
   ]
  },
  {
   "cell_type": "markdown",
   "id": "4c219f71-43be-41d7-bf3c-884839fe0d1d",
   "metadata": {},
   "source": [
    "# Some examples from civil engineering:"
   ]
  },
  {
   "cell_type": "markdown",
   "id": "9157724a-8e1e-46ba-97f2-4b31a20fb21b",
   "metadata": {},
   "source": [
    "---"
   ]
  },
  {
   "cell_type": "markdown",
   "id": "1c1fe9f7-1393-46eb-80f4-dc2f6bc0ae90",
   "metadata": {
    "tags": []
   },
   "source": [
    "# Centroid and MOI of 2D figures: ( For vertical strip)\n"
   ]
  },
  {
   "attachments": {
    "049f3181-c46c-47d2-8917-49cad54f5a3c.png": {
     "image/png": "[encoded data removed]"
    },
    "b6893b02-4649-4450-8a0f-bca72ca836a9.png": {
     "image/png": "[encoded data removed]"
    },
    "b72337b6-cc1b-4fdd-94ca-4ddb3518797e.png": {
     "image/png": "[encoded data removed]"
    }
   },
   "cell_type": "markdown",
   "id": "a057a692-4680-408e-858b-64b72d044666",
   "metadata": {},
   "source": [
    "![image.png](attachment:b6893b02-4649-4450-8a0f-bca72ca836a9.png)X![image.png](attachment:049f3181-c46c-47d2-8917-49cad54f5a3c.png)![image.png](attachment:b72337b6-cc1b-4fdd-94ca-4ddb3518797e.png)"
   ]
  },
  {
   "attachments": {
    "b6346c88-bcb1-4f73-9572-d32428981c25.png": {
     "image/png": "[encoded data removed]"
    },
    "bfb3a5b6-0127-4145-b9ef-834b0298d734.png": {
     "image/png": "[encoded data removed]"
    }
   },
   "cell_type": "markdown",
   "id": "6fb5f1cb-0968-4739-8c1c-6bcc5df11424",
   "metadata": {},
   "source": [
    "![image.png](attachment:bfb3a5b6-0127-4145-b9ef-834b0298d734.png)![image.png](attachment:b6346c88-bcb1-4f73-9572-d32428981c25.png)"
   ]
  },
  {
   "cell_type": "code",
   "execution_count": null,
   "id": "32911164-e9f4-4778-97c7-dfee582e4247",
   "metadata": {},
   "outputs": [],
   "source": [
    "x, y, k = sp.symbols('x, y, k')\n",
    "a, b = sp.symbols('a, b', constant = True)"
   ]
  },
  {
   "cell_type": "code",
   "execution_count": null,
   "id": "d9093fdb-40c5-49b7-b084-9d0f084633a4",
   "metadata": {},
   "outputs": [
    {
     "data": {
      "text/latex": [
       "$\\displaystyle \\frac{b}{a^{2}}$"
      ],
      "text/plain": [
       "b/a**2"
      ]
     },
     "execution_count": 23,
     "metadata": {},
     "output_type": "execute_result"
    }
   ],
   "source": [
    "k = y / x**2\n",
    "k_val = k.subs([(y,b), (x,a)])\n",
    "k_val"
   ]
  },
  {
   "cell_type": "code",
   "execution_count": 32,
   "id": "ad694e9f-d834-4e6b-aac0-e715d8c3eaec",
   "metadata": {},
   "outputs": [
    {
     "data": {
      "text/latex": [
       "$\\displaystyle \\frac{a^{2} b}{4}$"
      ],
      "text/plain": [
       "a**2*b/4"
      ]
     },
     "execution_count": 32,
     "metadata": {},
     "output_type": "execute_result"
    }
   ],
   "source": [
    "intr = x * k_val * x**2\n",
    "int1 = sp.Integral(intr, (x, 0, a) )\n",
    "upper = int1.doit()\n",
    "upper"
   ]
  },
  {
   "cell_type": "code",
   "execution_count": 33,
   "id": "8d267ea6-2159-48f6-961b-84ef86a0f941",
   "metadata": {},
   "outputs": [
    {
     "data": {
      "text/latex": [
       "$\\displaystyle \\frac{a b}{3}$"
      ],
      "text/plain": [
       "a*b/3"
      ]
     },
     "execution_count": 33,
     "metadata": {},
     "output_type": "execute_result"
    }
   ],
   "source": [
    "\n",
    "area = k_val * x**2\n",
    "area1 = sp.Integral(area, (x, 0, a) )\n",
    "lower = area1.doit()\n",
    "lower"
   ]
  },
  {
   "cell_type": "code",
   "execution_count": 34,
   "id": "25e9b115-5793-44a4-8d7e-b983bf9ef065",
   "metadata": {},
   "outputs": [
    {
     "data": {
      "text/latex": [
       "$\\displaystyle x_{avg} = \\frac{3 a}{4}$"
      ],
      "text/plain": [
       "Eq(x_avg, 3*a/4)"
      ]
     },
     "execution_count": 34,
     "metadata": {},
     "output_type": "execute_result"
    }
   ],
   "source": [
    "xbar = sp.symbols('x_avg')\n",
    "sp.Eq(xbar, upper /lower)"
   ]
  },
  {
   "cell_type": "code",
   "execution_count": null,
   "id": "a32e0145-b0b2-4267-9812-2e6aa1a13f09",
   "metadata": {},
   "outputs": [],
   "source": []
  },
  {
   "cell_type": "code",
   "execution_count": null,
   "id": "2c6f9e8a-e4ff-445d-a158-613d74d5b4ee",
   "metadata": {},
   "outputs": [],
   "source": []
  },
  {
   "attachments": {
    "161356bd-e896-4979-9d71-177900b91980.png": {
     "image/png": "[encoded data removed]"
    }
   },
   "cell_type": "markdown",
   "id": "b95f8096-d0d9-4c19-95d9-2bf19555e7f5",
   "metadata": {
    "tags": []
   },
   "source": [
    "# Beam Analysis\n",
    "![image.png](attachment:161356bd-e896-4979-9d71-177900b91980.png)"
   ]
  },
  {
   "cell_type": "code",
   "execution_count": 35,
   "id": "2655988b-f9ea-45be-9178-be1ac4cbfbb0",
   "metadata": {
    "tags": []
   },
   "outputs": [],
   "source": [
    "# symbol definition:\n",
    "l, p, rax, ray, rb = sp.symbols(\"L, P, R_A_x, R_A_y, R_B\")"
   ]
  },
  {
   "cell_type": "code",
   "execution_count": 36,
   "id": "a1f31033-5e90-4c13-9544-791d0754dfc2",
   "metadata": {
    "tags": []
   },
   "outputs": [
    {
     "data": {
      "text/latex": [
       "$\\displaystyle R_{A x} = 0$"
      ],
      "text/plain": [
       "Eq(R_A_x, 0)"
      ]
     },
     "execution_count": 36,
     "metadata": {},
     "output_type": "execute_result"
    }
   ],
   "source": [
    "# make equation:\n",
    "sp.Eq(rax, 0)"
   ]
  },
  {
   "cell_type": "code",
   "execution_count": 37,
   "id": "aa9cc2f8-92e6-4c3f-af52-34588b116bc4",
   "metadata": {
    "tags": []
   },
   "outputs": [
    {
     "data": {
      "text/latex": [
       "$\\displaystyle - P + R_{A y} + R_{B} = 0$"
      ],
      "text/plain": [
       "Eq(-P + R_A_y + R_B, 0)"
      ]
     },
     "metadata": {},
     "output_type": "display_data"
    },
    {
     "data": {
      "text/latex": [
       "$\\displaystyle \\frac{L P}{2} - L R_{B} = 0$"
      ],
      "text/plain": [
       "Eq(L*P/2 - L*R_B, 0)"
      ]
     },
     "metadata": {},
     "output_type": "display_data"
    },
    {
     "name": "stdout",
     "output_type": "stream",
     "text": [
      "Solving these equation, we get\n"
     ]
    },
    {
     "data": {
      "text/latex": [
       "$\\displaystyle R_{A y} = \\frac{P}{2}$"
      ],
      "text/plain": [
       "Eq(R_A_y, P/2)"
      ]
     },
     "metadata": {},
     "output_type": "display_data"
    },
    {
     "data": {
      "text/latex": [
       "$\\displaystyle R_{B} = \\frac{P}{2}$"
      ],
      "text/plain": [
       "Eq(R_B, P/2)"
      ]
     },
     "execution_count": 37,
     "metadata": {},
     "output_type": "execute_result"
    }
   ],
   "source": [
    "# sum fy = 0\n",
    "\n",
    "sumy = sp.Eq(ray + rb - p, 0)\n",
    "\n",
    "#mom about A zero: clockwise moment positive\n",
    "\n",
    "momA = sp.Eq(l/2 * p - rb * l, 0)\n",
    "\n",
    "display(sumy, momA)\n",
    "\n",
    "print(\"Solving these equation, we get\")\n",
    "\n",
    "values = sp.solve([sumy, momA], [ray, rb])\n",
    "\n",
    "display(sp.Eq(ray, values[ray]) )\n",
    "sp.Eq(rb, values[rb])"
   ]
  },
  {
   "cell_type": "code",
   "execution_count": 38,
   "id": "928b8df6-eda7-4429-a4f0-2aff29ab72bf",
   "metadata": {},
   "outputs": [
    {
     "data": {
      "text/latex": [
       "$\\displaystyle \\frac{P {\\left\\langle x \\right\\rangle}^{0}}{2} - P {\\left\\langle - \\frac{L}{2} + x \\right\\rangle}^{0} + \\frac{P {\\left\\langle - L + x \\right\\rangle}^{0}}{2}$"
      ],
      "text/plain": [
       "P*SingularityFunction(x, 0, 0)/2 - P*SingularityFunction(x, L/2, 0) + P*SingularityFunction(x, L, 0)/2"
      ]
     },
     "execution_count": 38,
     "metadata": {},
     "output_type": "execute_result"
    }
   ],
   "source": [
    "x = sp.symbols(\"x\")\n",
    "l = sp.symbols(\"L\", constant = True)\n",
    "shear = sp.symbols(\"V(x)\")\n",
    "\n",
    "def sf(x,y,z):\n",
    "    return sp.SingularityFunction(x,y,z)\n",
    "\n",
    "sh = values[ray] *sf(x,0,0) + (-p) * sf(x, l/2, 0) + values[rb] *sf(x, l, 0)\n",
    "sh"
   ]
  },
  {
   "cell_type": "code",
   "execution_count": 39,
   "id": "8ac041f2-9f40-4ba9-bcf0-c1593c3f6cad",
   "metadata": {},
   "outputs": [
    {
     "data": {
      "text/latex": [
       "$\\displaystyle \\frac{P {\\left\\langle x \\right\\rangle}^{1}}{2} - P {\\left\\langle - \\frac{L}{2} + x \\right\\rangle}^{1} + \\frac{P {\\left\\langle - L + x \\right\\rangle}^{1}}{2}$"
      ],
      "text/plain": [
       "P*SingularityFunction(x, 0, 1)/2 - P*SingularityFunction(x, L/2, 1) + P*SingularityFunction(x, L, 1)/2"
      ]
     },
     "execution_count": 39,
     "metadata": {},
     "output_type": "execute_result"
    }
   ],
   "source": [
    "momfn =sp.Integral(sh,x).doit() + 0\n",
    "momfn"
   ]
  },
  {
   "cell_type": "code",
   "execution_count": 40,
   "id": "59b03937-440e-4f48-aa6d-37a6abb33a1f",
   "metadata": {},
   "outputs": [],
   "source": [
    "# assume values:l = 10, P = 2\n",
    "sh_new = sh.subs([(l, 10), (p, 2) ])\n",
    "momfn_new = momfn.subs([(l, 10), (p, 2) ])"
   ]
  },
  {
   "cell_type": "code",
   "execution_count": 41,
   "id": "3afa3363-648e-47b1-9fc7-19cb1918f085",
   "metadata": {},
   "outputs": [
    {
     "data": {
      "image/png": "[encoded data removed]",
      "text/plain": [
       "<Figure size 432x288 with 1 Axes>"
      ]
     },
     "metadata": {
      "needs_background": "light"
     },
     "output_type": "display_data"
    },
    {
     "data": {
      "text/plain": [
       "<sympy.plotting.plot.Plot at 0x2eb6bf98820>"
      ]
     },
     "execution_count": 41,
     "metadata": {},
     "output_type": "execute_result"
    }
   ],
   "source": [
    "sp.plot(sh_new, momfn_new)"
   ]
  },
  {
   "cell_type": "code",
   "execution_count": null,
   "id": "21f8cfec-7c76-4cfe-82f7-540b48d59437",
   "metadata": {},
   "outputs": [],
   "source": []
  },
  {
   "cell_type": "code",
   "execution_count": null,
   "id": "35315e1f-1cfe-4cc2-8c47-d56e6a7098e4",
   "metadata": {},
   "outputs": [],
   "source": []
  },
  {
   "cell_type": "markdown",
   "id": "9c16bbea-c4f2-412c-888f-0d275316a335",
   "metadata": {},
   "source": [
    "# Use of .n() method to compute numerically."
   ]
  },
  {
   "cell_type": "markdown",
   "id": "62b8cc2d-f9bd-4098-aa91-508a385d66b9",
   "metadata": {},
   "source": [
    "#### Q: Integrate this function with respect to x from x = 0 to x = 6.\n",
    "$$\n",
    "f(x) = \\frac{x}{\\sqrt{x^4 + 10x^2 - 96x - 71}}\n",
    "$$"
   ]
  },
  {
   "cell_type": "code",
   "execution_count": 54,
   "id": "917f1191-d74f-41f2-bf4f-7017a3aa8fa2",
   "metadata": {},
   "outputs": [
    {
     "name": "stdout",
     "output_type": "stream",
     "text": [
      "Given function:\n"
     ]
    },
    {
     "data": {
      "text/latex": [
       "$\\displaystyle f(x) = \\frac{x}{\\sqrt{x^{4} + 10 x^{2} - 96 x - 71}}$"
      ],
      "text/plain": [
       "Eq(f(x), x/sqrt(x**4 + 10*x**2 - 96*x - 71))"
      ]
     },
     "metadata": {},
     "output_type": "display_data"
    },
    {
     "name": "stdout",
     "output_type": "stream",
     "text": [
      "Integrating this function:\n"
     ]
    },
    {
     "data": {
      "text/latex": [
       "$\\displaystyle \\int\\limits_{0}^{6} f(x)\\, dx$"
      ],
      "text/plain": [
       "Integral(f(x), (x, 0, 6))"
      ]
     },
     "metadata": {},
     "output_type": "display_data"
    },
    {
     "data": {
      "text/latex": [
       "$\\displaystyle \\int\\limits_{0}^{6} \\frac{x}{\\sqrt{x^{4} + 10 x^{2} - 96 x - 71}}\\, dx$"
      ],
      "text/plain": [
       "Integral(x/sqrt(x**4 + 10*x**2 - 96*x - 71), (x, 0, 6))"
      ]
     },
     "metadata": {},
     "output_type": "display_data"
    }
   ],
   "source": [
    "# Define symbols f(x), x and make expression\n",
    "import sympy as sp\n",
    "f, x = sp.symbols(\"f(x), x\")\n",
    "lhs = x/sp.sqrt(x**4 + 10 * x**2 - 96*x - 71)\n",
    "\n",
    "print(\"Given function:\")\n",
    "display( sp.Eq(f,lhs) )\n",
    "\n",
    "#making integration object and solve.\n",
    "print(\"Integrating this function:\")\n",
    "intr = sp.Integral(f,(x,0,6))\n",
    "display(intr)\n",
    "intr = intr.subs(f, lhs)\n",
    "display(intr)\n"
   ]
  },
  {
   "cell_type": "code",
   "execution_count": 55,
   "id": "eb23c56a-64b8-48af-9f13-19120fa6d85e",
   "metadata": {},
   "outputs": [
    {
     "data": {
      "text/latex": [
       "$\\displaystyle \\int\\limits_{0}^{6} \\frac{x}{\\sqrt{x^{4} + 10 x^{2} - 96 x - 71}}\\, dx$"
      ],
      "text/plain": [
       "Integral(x/sqrt(x**4 + 10*x**2 - 96*x - 71), (x, 0, 6))"
      ]
     },
     "execution_count": 55,
     "metadata": {},
     "output_type": "execute_result"
    }
   ],
   "source": [
    "# solving integration object\n",
    "intr.doit()"
   ]
  },
  {
   "cell_type": "code",
   "execution_count": 57,
   "id": "c3a0255c-593e-4b07-acb8-e244160a61a7",
   "metadata": {},
   "outputs": [
    {
     "data": {
      "text/latex": [
       "$\\displaystyle 0.6 - 0.9 i$"
      ],
      "text/plain": [
       "0.e+0 - 0.e+0*I"
      ]
     },
     "execution_count": 57,
     "metadata": {},
     "output_type": "execute_result"
    }
   ],
   "source": [
    "# since doit() method can't solve our problem,\n",
    "#  we proceed to do it numerically.\n",
    "\n",
    "intr.n()"
   ]
  },
  {
   "cell_type": "code",
   "execution_count": 59,
   "id": "462b760e-3bc6-4f8c-a574-bd8bf5806e03",
   "metadata": {},
   "outputs": [
    {
     "data": {
      "image/png": "[encoded data removed]",
      "text/plain": [
       "<Figure size 432x288 with 1 Axes>"
      ]
     },
     "metadata": {
      "needs_background": "light"
     },
     "output_type": "display_data"
    },
    {
     "data": {
      "text/plain": [
       "<sympy.plotting.plot.Plot at 0x2eb6bce6400>"
      ]
     },
     "execution_count": 59,
     "metadata": {},
     "output_type": "execute_result"
    }
   ],
   "source": [
    "# OH wow, the answer is complex number.\n",
    "# But how  can area be a complex number, \n",
    "#  let's discover the reason by plotting our given function.\n",
    "\n",
    "sp.plot(lhs)"
   ]
  },
  {
   "cell_type": "code",
   "execution_count": null,
   "id": "a6ae2331-388b-4772-9a0c-8c3e0be19deb",
   "metadata": {},
   "outputs": [],
   "source": []
  },
  {
   "cell_type": "markdown",
   "id": "0b300e1c-4da3-4696-8a9b-f9f8d0aa472f",
   "metadata": {},
   "source": [
    "---"
   ]
  },
  {
   "cell_type": "markdown",
   "id": "b6579247-e2cd-4d7e-8a24-06dd5e2a1836",
   "metadata": {},
   "source": [
    "# Recommended Resources:\n",
    "#### Following resources are listed according to the level of details available about sympy library."
   ]
  },
  {
   "cell_type": "markdown",
   "id": "340d7983-ab06-4ac6-ad7f-e24a2863eada",
   "metadata": {},
   "source": [
    "[1] Sympy Quick Reference: (For Quick Reference) </br>\n",
    "https://github.com/lukepolson/youtube_channel/blob/main/Python%20Tutorial%20Series/math1.ipynb\n",
    "</br>\n",
    "\n",
    "[2] Sympy Documentation: (For Further exploration) </br>\n",
    "https://docs.sympy.org/latest/index.html\n",
    "\n"
   ]
  },
  {
   "cell_type": "code",
   "execution_count": null,
   "id": "07018268-f088-441b-9d49-464d63596750",
   "metadata": {},
   "outputs": [],
   "source": []
  }
 ],
 "metadata": {
  "kernelspec": {
   "display_name": "Python 3 (ipykernel)",
   "language": "python",
   "name": "python3"
  },
  "language_info": {
   "codemirror_mode": {
    "name": "ipython",
    "version": 3
   },
   "file_extension": ".py",
   "mimetype": "text/x-python",
   "name": "python",
   "nbconvert_exporter": "python",
   "pygments_lexer": "ipython3",
   "version": "3.9.7"
  }
 },
 "nbformat": 4,
 "nbformat_minor": 5
}
